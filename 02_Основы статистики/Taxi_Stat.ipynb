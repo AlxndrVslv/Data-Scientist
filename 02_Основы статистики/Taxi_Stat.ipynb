{
 "cells": [
  {
   "cell_type": "markdown",
   "id": "4ca218d5-728a-4c9f-b06b-f02d686d0a38",
   "metadata": {},
   "source": [
    "## Импортируем необходимые библиотеки"
   ]
  },
  {
   "cell_type": "code",
   "execution_count": 76,
   "id": "c3b4f895-f376-4d45-bec5-133b98eb3230",
   "metadata": {},
   "outputs": [],
   "source": [
    "import pandas as pd\n",
    "import matplotlib.pyplot as plt\n",
    "import seaborn as sns\n",
    "from scipy.stats import mannwhitneyu"
   ]
  },
  {
   "cell_type": "markdown",
   "id": "25c04079-55c1-44f5-9bb4-1fcc7bf9b107",
   "metadata": {},
   "source": [
    "## Сформируем дата-сет"
   ]
  },
  {
   "cell_type": "code",
   "execution_count": 3,
   "id": "c6d91739-a1d2-4a1f-94ea-b3e0c2becdbf",
   "metadata": {},
   "outputs": [
    {
     "data": {
      "text/html": [
       "<div>\n",
       "<style scoped>\n",
       "    .dataframe tbody tr th:only-of-type {\n",
       "        vertical-align: middle;\n",
       "    }\n",
       "\n",
       "    .dataframe tbody tr th {\n",
       "        vertical-align: top;\n",
       "    }\n",
       "\n",
       "    .dataframe thead th {\n",
       "        text-align: right;\n",
       "    }\n",
       "</style>\n",
       "<table border=\"1\" class=\"dataframe\">\n",
       "  <thead>\n",
       "    <tr style=\"text-align: right;\">\n",
       "      <th></th>\n",
       "      <th>order_gk</th>\n",
       "      <th>weekday_key</th>\n",
       "      <th>hour_key</th>\n",
       "      <th>distance_km</th>\n",
       "      <th>offer_class_group</th>\n",
       "      <th>driver_response</th>\n",
       "    </tr>\n",
       "  </thead>\n",
       "  <tbody>\n",
       "    <tr>\n",
       "      <th>0</th>\n",
       "      <td>412</td>\n",
       "      <td>7</td>\n",
       "      <td>22.967881</td>\n",
       "      <td>53.113626</td>\n",
       "      <td>Premium</td>\n",
       "      <td>1</td>\n",
       "    </tr>\n",
       "    <tr>\n",
       "      <th>1</th>\n",
       "      <td>436</td>\n",
       "      <td>3</td>\n",
       "      <td>19.439948</td>\n",
       "      <td>5.781342</td>\n",
       "      <td>Delivery</td>\n",
       "      <td>1</td>\n",
       "    </tr>\n",
       "    <tr>\n",
       "      <th>2</th>\n",
       "      <td>1327</td>\n",
       "      <td>6</td>\n",
       "      <td>19.816643</td>\n",
       "      <td>16.200071</td>\n",
       "      <td>Delivery</td>\n",
       "      <td>0</td>\n",
       "    </tr>\n",
       "    <tr>\n",
       "      <th>3</th>\n",
       "      <td>2013</td>\n",
       "      <td>2</td>\n",
       "      <td>19.123837</td>\n",
       "      <td>13.731643</td>\n",
       "      <td>Delivery</td>\n",
       "      <td>0</td>\n",
       "    </tr>\n",
       "    <tr>\n",
       "      <th>4</th>\n",
       "      <td>2241</td>\n",
       "      <td>6</td>\n",
       "      <td>23.164958</td>\n",
       "      <td>20.436380</td>\n",
       "      <td>Premium</td>\n",
       "      <td>1</td>\n",
       "    </tr>\n",
       "  </tbody>\n",
       "</table>\n",
       "</div>"
      ],
      "text/plain": [
       "   order_gk  weekday_key   hour_key  distance_km offer_class_group  \\\n",
       "0       412            7  22.967881    53.113626           Premium   \n",
       "1       436            3  19.439948     5.781342          Delivery   \n",
       "2      1327            6  19.816643    16.200071          Delivery   \n",
       "3      2013            2  19.123837    13.731643          Delivery   \n",
       "4      2241            6  23.164958    20.436380           Premium   \n",
       "\n",
       "   driver_response  \n",
       "0                1  \n",
       "1                1  \n",
       "2                0  \n",
       "3                0  \n",
       "4                1  "
      ]
     },
     "execution_count": 3,
     "metadata": {},
     "output_type": "execute_result"
    }
   ],
   "source": [
    "df = pd.read_excel('FPS_hw_x_df_x_taxi.xlsx')\n",
    "df.head()"
   ]
  },
  {
   "cell_type": "markdown",
   "id": "e337271a-dc52-4da8-b3c8-e067cbe7e914",
   "metadata": {},
   "source": [
    "## <b>Сформулируем гипотезы:</b>\n",
    "## <u>H0</u>: Для дальних поездок пассажиры выбирают Эконом и Комфорт классы с похожей регулярностью;\n",
    "## <u>H1</u>: Регулярность выбора Эконом и Комфорт классов отличается при дальних поездках."
   ]
  },
  {
   "cell_type": "markdown",
   "id": "10a71439-c175-49a8-8731-7fbdb6105167",
   "metadata": {},
   "source": [
    "## Для проверки гипотез сформируем две отдельные выборки для Эконом и Комфорт классов (статус поездки учитывать не будем, как указано в задании)"
   ]
  },
  {
   "cell_type": "code",
   "execution_count": 79,
   "id": "bae191b6-7c47-4442-961b-3410f541adc7",
   "metadata": {},
   "outputs": [],
   "source": [
    "df_economy = df[(df['offer_class_group'] == 'Economy')]\n",
    "df_comfort = df[(df['offer_class_group'] == 'Comfort')]"
   ]
  },
  {
   "cell_type": "markdown",
   "id": "08730535-e225-4266-94ea-d26fe19f89e1",
   "metadata": {},
   "source": [
    "## Построим графики плотности распределения дистанции поездок для данных классов"
   ]
  },
  {
   "cell_type": "code",
   "execution_count": 96,
   "id": "00cde854-6eee-4c88-af21-34179cec915d",
   "metadata": {},
   "outputs": [
    {
     "name": "stderr",
     "output_type": "stream",
     "text": [
      "C:\\Users\\avv3\\anaconda3\\Lib\\site-packages\\seaborn\\_oldcore.py:1119: FutureWarning: use_inf_as_na option is deprecated and will be removed in a future version. Convert inf values to NaN before operating instead.\n",
      "  with pd.option_context('mode.use_inf_as_na', True):\n",
      "C:\\Users\\avv3\\anaconda3\\Lib\\site-packages\\seaborn\\_oldcore.py:1119: FutureWarning: use_inf_as_na option is deprecated and will be removed in a future version. Convert inf values to NaN before operating instead.\n",
      "  with pd.option_context('mode.use_inf_as_na', True):\n"
     ]
    },
    {
     "data": {
      "text/plain": [
       "[]"
      ]
     },
     "execution_count": 96,
     "metadata": {},
     "output_type": "execute_result"
    },
    {
     "data": {
      "image/png": "[encoded data removed]",
      "text/plain": [
       "<Figure size 640x480 with 1 Axes>"
      ]
     },
     "metadata": {},
     "output_type": "display_data"
    }
   ],
   "source": [
    "sns.histplot(df_economy['distance_km'], label = 'Economy', bins = 30, kde = True, color = 'gray')\n",
    "sns.histplot(df_comfort['distance_km'], label = 'Comfort', bins = 30, kde = True, color = 'purple')\n",
    "\n",
    "plt.title('Распределение дистанции поездок по классам')\n",
    "plt.legend()\n",
    "plt.plot()"
   ]
  },
  {
   "cell_type": "markdown",
   "id": "73957285-9d1c-439b-87f1-84e4fe40b957",
   "metadata": {},
   "source": [
    "## Как видно из графиков, распределение не похоже на нормальное (скорее логнормальное)\n",
    "## Для оценки гипотезы логичнее будет использовать критерий Манна Уитни.\n",
    "## Уровень значимости возмем равным 5%. Рассчитаем вероятность pvalue."
   ]
  },
  {
   "cell_type": "code",
   "execution_count": 89,
   "id": "8ba70d7d-f091-4ead-b854-32fd3f0c6792",
   "metadata": {},
   "outputs": [
    {
     "name": "stdout",
     "output_type": "stream",
     "text": [
      "Значение pvalue = 0.00128\n"
     ]
    }
   ],
   "source": [
    "alpha = 0.05\n",
    "result = mannwhitneyu(df_economy['distance_km'], df_comfort['distance_km'])\n",
    "print('Значение pvalue = {:.5f}'.format(result.pvalue))"
   ]
  },
  {
   "cell_type": "code",
   "execution_count": 88,
   "id": "d0dc22fa-1a18-41ad-af0a-aaf4472c119d",
   "metadata": {},
   "outputs": [
    {
     "name": "stdout",
     "output_type": "stream",
     "text": [
      "Отвергаем нулевую гипотезу\n"
     ]
    }
   ],
   "source": [
    "if result.pvalue < alpha:\n",
    "    print('Отвергаем нулевую гипотезу')\n",
    "else:\n",
    "    print('Принимае нулевую гипотезу')"
   ]
  },
  {
   "cell_type": "markdown",
   "id": "17af9b54-45c3-4b75-bb9b-18d2237fe7d8",
   "metadata": {},
   "source": [
    "## Т.о., статистический анализ показал, что гипотезу H0 логичнее отвергнуть. Регулярность выбора Эконом и Комфорт классов при дальних поездках отличаются.\n",
    "## Остается понять, какой из двух классов пассажиры выбирают чаще при дальних поездках. Для этого выведем описательную статистику по классам для дистанции"
   ]
  },
  {
   "cell_type": "code",
   "execution_count": 90,
   "id": "55c626a5-aeaa-41e2-a9c6-c03aace4c165",
   "metadata": {},
   "outputs": [
    {
     "data": {
      "text/plain": [
       "count    500.000000\n",
       "mean      26.283117\n",
       "std       17.016153\n",
       "min        0.089947\n",
       "25%       13.372229\n",
       "50%       23.798183\n",
       "75%       36.845287\n",
       "max       90.516618\n",
       "Name: distance_km, dtype: float64"
      ]
     },
     "execution_count": 90,
     "metadata": {},
     "output_type": "execute_result"
    }
   ],
   "source": [
    "df_economy.describe()['distance_km']"
   ]
  },
  {
   "cell_type": "code",
   "execution_count": 91,
   "id": "e226f567-9c15-4271-8920-2f584463b497",
   "metadata": {},
   "outputs": [
    {
     "data": {
      "text/plain": [
       "count    500.000000\n",
       "mean      29.758910\n",
       "std       17.644643\n",
       "min        0.024259\n",
       "25%       16.345205\n",
       "50%       28.078273\n",
       "75%       41.300650\n",
       "max       81.507022\n",
       "Name: distance_km, dtype: float64"
      ]
     },
     "execution_count": 91,
     "metadata": {},
     "output_type": "execute_result"
    }
   ],
   "source": [
    "df_comfort.describe()['distance_km']"
   ]
  },
  {
   "cell_type": "code",
   "execution_count": 99,
   "id": "e41efbe3-c043-4062-b51a-ec607d1d19a6",
   "metadata": {},
   "outputs": [
    {
     "name": "stdout",
     "output_type": "stream",
     "text": [
      "Среднее значение дистанции для Эконом-класса = 26.28\n",
      "Среднее значение дистанции для Комфорт-класса = 29.76\n"
     ]
    }
   ],
   "source": [
    "print('Среднее значение дистанции для Эконом-класса = {:.2f}'.format(df_economy.describe()['distance_km']['mean']))\n",
    "print('Среднее значение дистанции для Комфорт-класса = {:.2f}'.format(df_comfort.describe()['distance_km']['mean']))"
   ]
  },
  {
   "cell_type": "markdown",
   "id": "e71f94d1-b058-4a72-b19c-1a63fa5691eb",
   "metadata": {},
   "source": [
    "# <b><u>Вывод</u>:</b>\n",
    "# Т.о., доверительный интервал для Комфорт-класса лежит правее → пассажиры чаще выбирают Комфорт-класс при дальних поездках"
   ]
  }
 ],
 "metadata": {
  "kernelspec": {
   "display_name": "Python 3 (ipykernel)",
   "language": "python",
   "name": "python3"
  },
  "language_info": {
   "codemirror_mode": {
    "name": "ipython",
    "version": 3
   },
   "file_extension": ".py",
   "mimetype": "text/x-python",
   "name": "python",
   "nbconvert_exporter": "python",
   "pygments_lexer": "ipython3",
   "version": "3.11.7"
  }
 },
 "nbformat": 4,
 "nbformat_minor": 5
}
