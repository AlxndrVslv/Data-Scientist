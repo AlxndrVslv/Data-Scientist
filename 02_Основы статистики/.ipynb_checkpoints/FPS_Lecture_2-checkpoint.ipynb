{
 "cells": [
  {
   "cell_type": "code",
   "execution_count": 7,
   "id": "6342fde2-3d09-4295-94ce-8a8a6cc431f7",
   "metadata": {},
   "outputs": [],
   "source": [
    "import pandas as pd\n",
    "import seaborn as sns\n",
    "import matplotlib.pyplot as plt"
   ]
  },
  {
   "cell_type": "code",
   "execution_count": 2,
   "id": "9e28accd-bced-4de0-b07d-297b21a850e9",
   "metadata": {},
   "outputs": [
    {
     "data": {
      "text/html": [
       "<div>\n",
       "<style scoped>\n",
       "    .dataframe tbody tr th:only-of-type {\n",
       "        vertical-align: middle;\n",
       "    }\n",
       "\n",
       "    .dataframe tbody tr th {\n",
       "        vertical-align: top;\n",
       "    }\n",
       "\n",
       "    .dataframe thead th {\n",
       "        text-align: right;\n",
       "    }\n",
       "</style>\n",
       "<table border=\"1\" class=\"dataframe\">\n",
       "  <thead>\n",
       "    <tr style=\"text-align: right;\">\n",
       "      <th></th>\n",
       "      <th>ID</th>\n",
       "      <th>Gender</th>\n",
       "      <th>Height</th>\n",
       "      <th>Weight</th>\n",
       "    </tr>\n",
       "  </thead>\n",
       "  <tbody>\n",
       "    <tr>\n",
       "      <th>0</th>\n",
       "      <td>10001</td>\n",
       "      <td>Male</td>\n",
       "      <td>174.782639</td>\n",
       "      <td>78.652188</td>\n",
       "    </tr>\n",
       "    <tr>\n",
       "      <th>1</th>\n",
       "      <td>10002</td>\n",
       "      <td>Female</td>\n",
       "      <td>165.183571</td>\n",
       "      <td>74.332607</td>\n",
       "    </tr>\n",
       "    <tr>\n",
       "      <th>2</th>\n",
       "      <td>10003</td>\n",
       "      <td>Male</td>\n",
       "      <td>181.542046</td>\n",
       "      <td>81.693920</td>\n",
       "    </tr>\n",
       "    <tr>\n",
       "      <th>3</th>\n",
       "      <td>10004</td>\n",
       "      <td>Female</td>\n",
       "      <td>167.845912</td>\n",
       "      <td>75.530661</td>\n",
       "    </tr>\n",
       "    <tr>\n",
       "      <th>4</th>\n",
       "      <td>10005</td>\n",
       "      <td>Female</td>\n",
       "      <td>160.475255</td>\n",
       "      <td>72.213865</td>\n",
       "    </tr>\n",
       "  </tbody>\n",
       "</table>\n",
       "</div>"
      ],
      "text/plain": [
       "      ID  Gender      Height     Weight\n",
       "0  10001    Male  174.782639  78.652188\n",
       "1  10002  Female  165.183571  74.332607\n",
       "2  10003    Male  181.542046  81.693920\n",
       "3  10004  Female  167.845912  75.530661\n",
       "4  10005  Female  160.475255  72.213865"
      ]
     },
     "execution_count": 2,
     "metadata": {},
     "output_type": "execute_result"
    }
   ],
   "source": [
    "df = pd.read_excel('FPS_lecture_df_0_height-weignt_cleared.xlsx')\n",
    "df.head()"
   ]
  },
  {
   "cell_type": "code",
   "execution_count": 6,
   "id": "48a57105-7abc-409c-a57b-5e5e93d06c39",
   "metadata": {},
   "outputs": [
    {
     "name": "stdout",
     "output_type": "stream",
     "text": [
      "Выборки имеют одинаковую длину: True\n"
     ]
    }
   ],
   "source": [
    "df_male = df[df['Gender'] == 'Male']\n",
    "df_female = df[df['Gender'] == 'Female']\n",
    "print(f'Выборки имеют одинаковую длину: {len(df_male) == len(df_female)}')"
   ]
  },
  {
   "cell_type": "code",
   "execution_count": 20,
   "id": "e0b8269d-3267-4684-aa4c-0de2ac576cc9",
   "metadata": {},
   "outputs": [
    {
     "name": "stderr",
     "output_type": "stream",
     "text": [
      "C:\\Users\\avv3\\anaconda3\\Lib\\site-packages\\seaborn\\_oldcore.py:1119: FutureWarning: use_inf_as_na option is deprecated and will be removed in a future version. Convert inf values to NaN before operating instead.\n",
      "  with pd.option_context('mode.use_inf_as_na', True):\n",
      "C:\\Users\\avv3\\anaconda3\\Lib\\site-packages\\seaborn\\_oldcore.py:1119: FutureWarning: use_inf_as_na option is deprecated and will be removed in a future version. Convert inf values to NaN before operating instead.\n",
      "  with pd.option_context('mode.use_inf_as_na', True):\n"
     ]
    },
    {
     "data": {
      "image/png": "[encoded data removed]",
      "text/plain": [
       "<Figure size 640x480 with 1 Axes>"
      ]
     },
     "metadata": {},
     "output_type": "display_data"
    }
   ],
   "source": [
    "sns.histplot(df_male['Weight'], bins = 50, label = 'Male')\n",
    "sns.histplot(df_female['Weight'], bins = 50, label = 'Female')\n",
    "plt.title('Плотность распределения веса от пола')\n",
    "plt.legend()\n",
    "plt.show()"
   ]
  },
  {
   "cell_type": "markdown",
   "id": "e0e1788f-ba1a-459b-ae6c-b37a9a267e31",
   "metadata": {},
   "source": [
    "## Подключение библиотек статистических критериев и задание уровня значимости"
   ]
  },
  {
   "cell_type": "code",
   "execution_count": 12,
   "id": "f0f2253f-2c93-48ca-9840-1bd0d5d12cc4",
   "metadata": {},
   "outputs": [],
   "source": [
    "from scipy.stats import ttest_ind\n",
    "from scipy.stats import mannwhitneyu\n",
    "\n",
    "alpha = 0.05"
   ]
  },
  {
   "cell_type": "markdown",
   "id": "a3be58e6-c8bd-4869-9d10-5e3a4fc7b21f",
   "metadata": {},
   "source": [
    "## Проведение T-Теста (t-критерий Стьюдента)"
   ]
  },
  {
   "cell_type": "code",
   "execution_count": 24,
   "id": "ea3ca1dd-7236-40cd-9189-bab83db4ac76",
   "metadata": {},
   "outputs": [
    {
     "name": "stdout",
     "output_type": "stream",
     "text": [
      "p_value: 0.00000000\n",
      "Отклоняем гипотезу H0\n"
     ]
    }
   ],
   "source": [
    "result = ttest_ind(df_male['Weight'], df_female['Weight'])\n",
    "print('p_value: %.8f' % result.pvalue)\n",
    "\n",
    "if (result.pvalue < alpha):\n",
    "    print('Отклоняем гипотезу H0')\n",
    "else:\n",
    "    print('Принимаем гипотезу H0')"
   ]
  },
  {
   "cell_type": "markdown",
   "id": "85116564-ce7c-4518-a9e3-93bddb061354",
   "metadata": {},
   "source": [
    "# Вывод: Вес мужчин статистически отличается от женщин"
   ]
  },
  {
   "cell_type": "markdown",
   "id": "18c654d0-0133-403e-8efe-61bcae416cbd",
   "metadata": {},
   "source": [
    "## Проведение теста Манна - Уитни (U-критерий Манна - Уитни)"
   ]
  },
  {
   "cell_type": "code",
   "execution_count": 29,
   "id": "459df834-0ec1-455c-873f-36cdee6e2b1f",
   "metadata": {},
   "outputs": [
    {
     "name": "stdout",
     "output_type": "stream",
     "text": [
      "p_value: 0.00000000\n",
      "Отклоняем гипотезу H0\n"
     ]
    }
   ],
   "source": [
    "result = mannwhitneyu(df_male['Weight'], df_female['Weight'])\n",
    "print('p_value: %.8f' % result.pvalue)\n",
    "\n",
    "if (result.pvalue < alpha):\n",
    "    print('Отклоняем гипотезу H0')\n",
    "else:\n",
    "    print('Принимаем гипотезу H0')"
   ]
  }
 ],
 "metadata": {
  "kernelspec": {
   "display_name": "Python 3 (ipykernel)",
   "language": "python",
   "name": "python3"
  },
  "language_info": {
   "codemirror_mode": {
    "name": "ipython",
    "version": 3
   },
   "file_extension": ".py",
   "mimetype": "text/x-python",
   "name": "python",
   "nbconvert_exporter": "python",
   "pygments_lexer": "ipython3",
   "version": "3.11.7"
  }
 },
 "nbformat": 4,
 "nbformat_minor": 5
}
