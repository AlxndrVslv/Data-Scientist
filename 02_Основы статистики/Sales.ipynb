{
 "cells": [
  {
   "cell_type": "markdown",
   "id": "1490f302-1d62-4bf4-9623-1596e0ef39f7",
   "metadata": {},
   "source": [
    "## Импортируем библиотеки"
   ]
  },
  {
   "cell_type": "code",
   "execution_count": 32,
   "id": "e2551d67-66e9-4312-ad5c-bc1faa135cf5",
   "metadata": {},
   "outputs": [],
   "source": [
    "import pandas as pd\n",
    "import matplotlib.pyplot as plt\n",
    "import seaborn as sns\n",
    "from scipy.stats import ttest_ind\n",
    "from scipy.stats import mannwhitneyu"
   ]
  },
  {
   "cell_type": "markdown",
   "id": "796c44e1-30a6-41d7-a691-0de1477a96cb",
   "metadata": {},
   "source": [
    "## Выводим набор данных"
   ]
  },
  {
   "cell_type": "code",
   "execution_count": 2,
   "id": "c208a0da-0f9e-4518-bd32-28dfa52a889f",
   "metadata": {},
   "outputs": [
    {
     "data": {
      "text/html": [
       "<div>\n",
       "<style scoped>\n",
       "    .dataframe tbody tr th:only-of-type {\n",
       "        vertical-align: middle;\n",
       "    }\n",
       "\n",
       "    .dataframe tbody tr th {\n",
       "        vertical-align: top;\n",
       "    }\n",
       "\n",
       "    .dataframe thead th {\n",
       "        text-align: right;\n",
       "    }\n",
       "</style>\n",
       "<table border=\"1\" class=\"dataframe\">\n",
       "  <thead>\n",
       "    <tr style=\"text-align: right;\">\n",
       "      <th></th>\n",
       "      <th>InvoiceNo</th>\n",
       "      <th>CustomerID</th>\n",
       "      <th>Country</th>\n",
       "      <th>InvoiceDate</th>\n",
       "      <th>Description</th>\n",
       "      <th>TotalPrice</th>\n",
       "    </tr>\n",
       "  </thead>\n",
       "  <tbody>\n",
       "    <tr>\n",
       "      <th>0</th>\n",
       "      <td>537693</td>\n",
       "      <td>12441</td>\n",
       "      <td>France</td>\n",
       "      <td>2010-12-08</td>\n",
       "      <td>WRAP I LOVE LONDON</td>\n",
       "      <td>51.11</td>\n",
       "    </tr>\n",
       "    <tr>\n",
       "      <th>1</th>\n",
       "      <td>537693</td>\n",
       "      <td>12441</td>\n",
       "      <td>France</td>\n",
       "      <td>2010-12-08</td>\n",
       "      <td>VINTAGE CARAVAN GIFT WRAP</td>\n",
       "      <td>43.61</td>\n",
       "    </tr>\n",
       "    <tr>\n",
       "      <th>2</th>\n",
       "      <td>537693</td>\n",
       "      <td>12441</td>\n",
       "      <td>France</td>\n",
       "      <td>2010-12-08</td>\n",
       "      <td>BLUE SCANDINAVIAN PAISLEY WRAP</td>\n",
       "      <td>73.08</td>\n",
       "    </tr>\n",
       "    <tr>\n",
       "      <th>3</th>\n",
       "      <td>537693</td>\n",
       "      <td>12441</td>\n",
       "      <td>France</td>\n",
       "      <td>2010-12-08</td>\n",
       "      <td>PAPER CHAIN KIT VINTAGE CHRISTMAS</td>\n",
       "      <td>39.17</td>\n",
       "    </tr>\n",
       "    <tr>\n",
       "      <th>4</th>\n",
       "      <td>537693</td>\n",
       "      <td>12441</td>\n",
       "      <td>France</td>\n",
       "      <td>2010-12-08</td>\n",
       "      <td>PAPER CHAIN KIT 50'S CHRISTMAS</td>\n",
       "      <td>57.48</td>\n",
       "    </tr>\n",
       "  </tbody>\n",
       "</table>\n",
       "</div>"
      ],
      "text/plain": [
       "  InvoiceNo  CustomerID Country InvoiceDate  \\\n",
       "0    537693       12441  France  2010-12-08   \n",
       "1    537693       12441  France  2010-12-08   \n",
       "2    537693       12441  France  2010-12-08   \n",
       "3    537693       12441  France  2010-12-08   \n",
       "4    537693       12441  France  2010-12-08   \n",
       "\n",
       "                         Description  TotalPrice  \n",
       "0                 WRAP I LOVE LONDON       51.11  \n",
       "1          VINTAGE CARAVAN GIFT WRAP       43.61  \n",
       "2     BLUE SCANDINAVIAN PAISLEY WRAP       73.08  \n",
       "3  PAPER CHAIN KIT VINTAGE CHRISTMAS       39.17  \n",
       "4    PAPER CHAIN KIT 50'S CHRISTMAS        57.48  "
      ]
     },
     "execution_count": 2,
     "metadata": {},
     "output_type": "execute_result"
    }
   ],
   "source": [
    "df = pd.read_excel('data_hw_2__upd_.xlsx')\n",
    "df.head()"
   ]
  },
  {
   "cell_type": "markdown",
   "id": "21bc3d5c-c16f-4bd5-96bb-6d8fae6bc222",
   "metadata": {},
   "source": [
    "## Группируем набор данных по странам для проверки соответствия размеров выборок для Франции и Германии"
   ]
  },
  {
   "cell_type": "code",
   "execution_count": 7,
   "id": "d095fd1d-83b6-41a9-9531-2a64f84c147b",
   "metadata": {},
   "outputs": [
    {
     "data": {
      "text/html": [
       "<div>\n",
       "<style scoped>\n",
       "    .dataframe tbody tr th:only-of-type {\n",
       "        vertical-align: middle;\n",
       "    }\n",
       "\n",
       "    .dataframe tbody tr th {\n",
       "        vertical-align: top;\n",
       "    }\n",
       "\n",
       "    .dataframe thead th {\n",
       "        text-align: right;\n",
       "    }\n",
       "</style>\n",
       "<table border=\"1\" class=\"dataframe\">\n",
       "  <thead>\n",
       "    <tr style=\"text-align: right;\">\n",
       "      <th></th>\n",
       "      <th>InvoiceNo</th>\n",
       "    </tr>\n",
       "    <tr>\n",
       "      <th>Country</th>\n",
       "      <th></th>\n",
       "    </tr>\n",
       "  </thead>\n",
       "  <tbody>\n",
       "    <tr>\n",
       "      <th>France</th>\n",
       "      <td>400</td>\n",
       "    </tr>\n",
       "    <tr>\n",
       "      <th>Germany</th>\n",
       "      <td>400</td>\n",
       "    </tr>\n",
       "    <tr>\n",
       "      <th>Norway</th>\n",
       "      <td>400</td>\n",
       "    </tr>\n",
       "  </tbody>\n",
       "</table>\n",
       "</div>"
      ],
      "text/plain": [
       "         InvoiceNo\n",
       "Country           \n",
       "France         400\n",
       "Germany        400\n",
       "Norway         400"
      ]
     },
     "execution_count": 7,
     "metadata": {},
     "output_type": "execute_result"
    }
   ],
   "source": [
    "df[['Country', 'InvoiceNo']].groupby('Country').count()"
   ]
  },
  {
   "cell_type": "markdown",
   "id": "ccd02d00-0288-4844-8188-2e8c64a8869d",
   "metadata": {},
   "source": [
    "## Размер выборок одинаковый → можно считать по ним статистику"
   ]
  },
  {
   "cell_type": "markdown",
   "id": "c6d96887-5415-48a4-9f64-0d98da1b27e9",
   "metadata": {},
   "source": [
    "## Построим гистрограммы плотности распределений объемов продаж по странам"
   ]
  },
  {
   "cell_type": "code",
   "execution_count": 42,
   "id": "b5b1084f-b455-484c-9623-2dc3563b526f",
   "metadata": {},
   "outputs": [
    {
     "name": "stderr",
     "output_type": "stream",
     "text": [
      "C:\\Users\\avv3\\anaconda3\\Lib\\site-packages\\seaborn\\_oldcore.py:1119: FutureWarning: use_inf_as_na option is deprecated and will be removed in a future version. Convert inf values to NaN before operating instead.\n",
      "  with pd.option_context('mode.use_inf_as_na', True):\n",
      "C:\\Users\\avv3\\anaconda3\\Lib\\site-packages\\seaborn\\_oldcore.py:1119: FutureWarning: use_inf_as_na option is deprecated and will be removed in a future version. Convert inf values to NaN before operating instead.\n",
      "  with pd.option_context('mode.use_inf_as_na', True):\n"
     ]
    },
    {
     "data": {
      "text/plain": [
       "[]"
      ]
     },
     "execution_count": 42,
     "metadata": {},
     "output_type": "execute_result"
    },
    {
     "data": {
      "image/png": "[encoded data removed]",
      "text/plain": [
       "<Figure size 640x480 with 1 Axes>"
      ]
     },
     "metadata": {},
     "output_type": "display_data"
    }
   ],
   "source": [
    "sns.histplot(df[df['Country'] == 'France']['TotalPrice'], bins = 40, label = 'France')\n",
    "sns.histplot(df[df['Country'] == 'Germany']['TotalPrice'], bins = 40, label = 'Germany')\n",
    "plt.title('Плотность распределения объемов продаж для Франции и Германии')\n",
    "plt.xlabel('Объем продаж')\n",
    "plt.ylabel('Заказы')\n",
    "plt.legend()\n",
    "plt.plot()"
   ]
  },
  {
   "cell_type": "markdown",
   "id": "b49a7727-9725-497e-88f9-caaa45e73df5",
   "metadata": {},
   "source": [
    "## Визуально по графикам можно сделать вывод, что выборки значительно не отличаются"
   ]
  },
  {
   "cell_type": "markdown",
   "id": "05bed371-1b33-438a-989d-07d7f72919b6",
   "metadata": {},
   "source": [
    "## <u>Сформулируем гипотезы</u>:\n",
    "## H0 - Выборки по странам значимо не отличаются\n",
    "## H1 - Выборки по странам отличаются значительно"
   ]
  },
  {
   "cell_type": "markdown",
   "id": "5d407907-4282-49c5-a63d-9cf30ee55c90",
   "metadata": {},
   "source": [
    "## Так как распределения продаж по странам напоминают нормальное, отсутствуют значительные выбросы, то можно посчитать t-критерий Стьюдента"
   ]
  },
  {
   "cell_type": "markdown",
   "id": "a7cd2c46-5ddf-4356-870d-0e73acfc2d4c",
   "metadata": {},
   "source": [
    "## Определим уровень значимости:"
   ]
  },
  {
   "cell_type": "code",
   "execution_count": 40,
   "id": "f86768ab-dcb7-4bc9-a0b4-fc11e110f585",
   "metadata": {},
   "outputs": [],
   "source": [
    "alpha = 0.05"
   ]
  },
  {
   "cell_type": "markdown",
   "id": "29fd47bc-5674-4e97-bf70-72c8b48a7ad2",
   "metadata": {},
   "source": [
    "## Рассчитаем pvalue:"
   ]
  },
  {
   "cell_type": "code",
   "execution_count": 38,
   "id": "b9c51a5d-5699-4f02-a0a9-d7493417bc64",
   "metadata": {},
   "outputs": [
    {
     "name": "stdout",
     "output_type": "stream",
     "text": [
      "pvalue = 0.00000000\n"
     ]
    }
   ],
   "source": [
    "result = ttest_ind(df[df['Country'] == 'France']['TotalPrice'], df[df['Country'] == 'Germany']['TotalPrice'])\n",
    "print('pvalue = {:.8f}'.format(result.pvalue))"
   ]
  },
  {
   "cell_type": "markdown",
   "id": "64f66e38-aba5-4a37-87ff-065d7f020098",
   "metadata": {},
   "source": [
    "# <b><u>Вывод</u>:</b>"
   ]
  },
  {
   "cell_type": "code",
   "execution_count": 44,
   "id": "320a20db-8558-4c1d-9777-0eacfd8f23a1",
   "metadata": {},
   "outputs": [
    {
     "name": "stdout",
     "output_type": "stream",
     "text": [
      "Отвергаем гипотезу H0\n"
     ]
    }
   ],
   "source": [
    "if (result.pvalue <= alpha):\n",
    "    print('Отвергаем гипотезу H0')\n",
    "else:\n",
    "    print('Принимаем гипотезу H0')"
   ]
  },
  {
   "cell_type": "markdown",
   "id": "5cd2d100-6e73-4278-b9d6-abe177b15406",
   "metadata": {},
   "source": [
    "## Т.о., несмотря на графики распределения продаж по странам, из которых кажется, что продажи значительно не отличаются, мы не можем принять нулевую гипотезу. Принимаем гипотезу, что объем продаж между Францией и Германией статистически различаются."
   ]
  },
  {
   "cell_type": "markdown",
   "id": "464f9aae-3aa6-4bb5-94b2-2d0b63323b79",
   "metadata": {},
   "source": [
    "## Перепроверим результат тестом Манна - Уитни"
   ]
  },
  {
   "cell_type": "code",
   "execution_count": 39,
   "id": "fffec770-28f6-47ab-bf03-c8b1a5ff873c",
   "metadata": {},
   "outputs": [
    {
     "name": "stdout",
     "output_type": "stream",
     "text": [
      "pvalue = 0.00000000\n"
     ]
    }
   ],
   "source": [
    "result = mannwhitneyu(df[df['Country'] == 'France']['TotalPrice'], df[df['Country'] == 'Germany']['TotalPrice'])\n",
    "print('pvalue = {:.8f}'.format(result.pvalue))"
   ]
  }
 ],
 "metadata": {
  "kernelspec": {
   "display_name": "Python 3 (ipykernel)",
   "language": "python",
   "name": "python3"
  },
  "language_info": {
   "codemirror_mode": {
    "name": "ipython",
    "version": 3
   },
   "file_extension": ".py",
   "mimetype": "text/x-python",
   "name": "python",
   "nbconvert_exporter": "python",
   "pygments_lexer": "ipython3",
   "version": "3.11.7"
  }
 },
 "nbformat": 4,
 "nbformat_minor": 5
}
