{
 "cells": [
  {
   "cell_type": "code",
   "execution_count": 1,
   "id": "97668d7a-2897-4cd7-a0db-0f958b34222b",
   "metadata": {},
   "outputs": [],
   "source": [
    "import pandas as pd"
   ]
  },
  {
   "cell_type": "markdown",
   "id": "bf32bc5b-53a5-4e06-8fbe-9ee514611355",
   "metadata": {},
   "source": [
    "## Исходный набор данных:"
   ]
  },
  {
   "cell_type": "code",
   "execution_count": 2,
   "id": "284adef9-cd4f-4093-b588-030325e4f909",
   "metadata": {},
   "outputs": [
    {
     "data": {
      "text/html": [
       "<div>\n",
       "<style scoped>\n",
       "    .dataframe tbody tr th:only-of-type {\n",
       "        vertical-align: middle;\n",
       "    }\n",
       "\n",
       "    .dataframe tbody tr th {\n",
       "        vertical-align: top;\n",
       "    }\n",
       "\n",
       "    .dataframe thead th {\n",
       "        text-align: right;\n",
       "    }\n",
       "</style>\n",
       "<table border=\"1\" class=\"dataframe\">\n",
       "  <thead>\n",
       "    <tr style=\"text-align: right;\">\n",
       "      <th></th>\n",
       "      <th>CustomerId</th>\n",
       "      <th>Gender</th>\n",
       "      <th>Age</th>\n",
       "      <th>Geography</th>\n",
       "      <th>Balance, Euro</th>\n",
       "      <th>EstimatedSalary, Euro</th>\n",
       "    </tr>\n",
       "  </thead>\n",
       "  <tbody>\n",
       "    <tr>\n",
       "      <th>0</th>\n",
       "      <td>15815660</td>\n",
       "      <td>Female</td>\n",
       "      <td>37.374760</td>\n",
       "      <td>France</td>\n",
       "      <td>112542.729286</td>\n",
       "      <td>44585.817716</td>\n",
       "    </tr>\n",
       "    <tr>\n",
       "      <th>1</th>\n",
       "      <td>15815656</td>\n",
       "      <td>Female</td>\n",
       "      <td>50.122552</td>\n",
       "      <td>Germany</td>\n",
       "      <td>116610.117715</td>\n",
       "      <td>50417.699036</td>\n",
       "    </tr>\n",
       "    <tr>\n",
       "      <th>2</th>\n",
       "      <td>15815628</td>\n",
       "      <td>Female</td>\n",
       "      <td>13.436561</td>\n",
       "      <td>France</td>\n",
       "      <td>76470.519592</td>\n",
       "      <td>11413.463636</td>\n",
       "    </tr>\n",
       "    <tr>\n",
       "      <th>3</th>\n",
       "      <td>15815552</td>\n",
       "      <td>Female</td>\n",
       "      <td>31.963556</td>\n",
       "      <td>France</td>\n",
       "      <td>93863.675220</td>\n",
       "      <td>26318.453258</td>\n",
       "    </tr>\n",
       "    <tr>\n",
       "      <th>4</th>\n",
       "      <td>15815530</td>\n",
       "      <td>Female</td>\n",
       "      <td>29.909407</td>\n",
       "      <td>France</td>\n",
       "      <td>135003.312047</td>\n",
       "      <td>86017.408897</td>\n",
       "    </tr>\n",
       "  </tbody>\n",
       "</table>\n",
       "</div>"
      ],
      "text/plain": [
       "   CustomerId  Gender        Age Geography  Balance, Euro  \\\n",
       "0    15815660  Female  37.374760    France  112542.729286   \n",
       "1    15815656  Female  50.122552   Germany  116610.117715   \n",
       "2    15815628  Female  13.436561    France   76470.519592   \n",
       "3    15815552  Female  31.963556    France   93863.675220   \n",
       "4    15815530  Female  29.909407    France  135003.312047   \n",
       "\n",
       "   EstimatedSalary, Euro  \n",
       "0           44585.817716  \n",
       "1           50417.699036  \n",
       "2           11413.463636  \n",
       "3           26318.453258  \n",
       "4           86017.408897  "
      ]
     },
     "execution_count": 2,
     "metadata": {},
     "output_type": "execute_result"
    }
   ],
   "source": [
    "df = pd.read_excel('FPS_hw_1_df_1_bank_customer.xlsx')\n",
    "df.head()"
   ]
  },
  {
   "cell_type": "markdown",
   "id": "10dd6e41-3fc4-4d72-be68-2d5e3a0b53af",
   "metadata": {},
   "source": [
    "## Статистики для возрастов клиентов:"
   ]
  },
  {
   "cell_type": "code",
   "execution_count": 4,
   "id": "e683cd9e-3ac5-4837-869b-983e1649e04f",
   "metadata": {},
   "outputs": [
    {
     "data": {
      "text/html": [
       "<div>\n",
       "<style scoped>\n",
       "    .dataframe tbody tr th:only-of-type {\n",
       "        vertical-align: middle;\n",
       "    }\n",
       "\n",
       "    .dataframe tbody tr th {\n",
       "        vertical-align: top;\n",
       "    }\n",
       "\n",
       "    .dataframe thead th {\n",
       "        text-align: right;\n",
       "    }\n",
       "</style>\n",
       "<table border=\"1\" class=\"dataframe\">\n",
       "  <thead>\n",
       "    <tr style=\"text-align: right;\">\n",
       "      <th></th>\n",
       "      <th>Показатель</th>\n",
       "      <th>Значение</th>\n",
       "    </tr>\n",
       "  </thead>\n",
       "  <tbody>\n",
       "    <tr>\n",
       "      <th>0</th>\n",
       "      <td>Среднее арифметическое</td>\n",
       "      <td>39.349764</td>\n",
       "    </tr>\n",
       "    <tr>\n",
       "      <th>1</th>\n",
       "      <td>Стандартное отклонение</td>\n",
       "      <td>10.810697</td>\n",
       "    </tr>\n",
       "    <tr>\n",
       "      <th>2</th>\n",
       "      <td>Минимум</td>\n",
       "      <td>7.282503</td>\n",
       "    </tr>\n",
       "    <tr>\n",
       "      <th>3</th>\n",
       "      <td>Персентиль 25</td>\n",
       "      <td>31.915588</td>\n",
       "    </tr>\n",
       "    <tr>\n",
       "      <th>4</th>\n",
       "      <td>Персентиль 50</td>\n",
       "      <td>39.268239</td>\n",
       "    </tr>\n",
       "    <tr>\n",
       "      <th>5</th>\n",
       "      <td>Персентиль 75</td>\n",
       "      <td>46.736935</td>\n",
       "    </tr>\n",
       "    <tr>\n",
       "      <th>6</th>\n",
       "      <td>Максимум</td>\n",
       "      <td>86.992518</td>\n",
       "    </tr>\n",
       "  </tbody>\n",
       "</table>\n",
       "</div>"
      ],
      "text/plain": [
       "               Показатель   Значение\n",
       "0  Среднее арифметическое  39.349764\n",
       "1  Стандартное отклонение  10.810697\n",
       "2                 Минимум   7.282503\n",
       "3           Персентиль 25  31.915588\n",
       "4           Персентиль 50  39.268239\n",
       "5           Персентиль 75  46.736935\n",
       "6                Максимум  86.992518"
      ]
     },
     "execution_count": 4,
     "metadata": {},
     "output_type": "execute_result"
    }
   ],
   "source": [
    "stat = {\n",
    "        'Показатель': [\n",
    "            'Среднее арифметическое',\n",
    "            'Стандартное отклонение',\n",
    "            'Минимум',\n",
    "            'Персентиль 25',\n",
    "            'Персентиль 50',\n",
    "            'Персентиль 75',\n",
    "            'Максимум'\n",
    "        ],\n",
    "        'Значение': [\n",
    "            df.describe()['Age']['mean'],\n",
    "            df.describe()['Age']['std'],\n",
    "            df.describe()['Age']['min'],\n",
    "            df.describe()['Age']['25%'],\n",
    "            df.describe()['Age']['50%'],\n",
    "            df.describe()['Age']['75%'],\n",
    "            df.describe()['Age']['max']\n",
    "        ]\n",
    "}\n",
    "stat_df = pd.DataFrame(stat)\n",
    "stat_df"
   ]
  },
  {
   "cell_type": "code",
   "execution_count": 5,
   "id": "41a2c00e-131d-4297-b40b-c4f5fa9a1927",
   "metadata": {},
   "outputs": [],
   "source": [
    "import matplotlib.pyplot as plt"
   ]
  },
  {
   "cell_type": "markdown",
   "id": "7b96d107-a56c-41cc-852b-64972346ca94",
   "metadata": {},
   "source": [
    "## Гистограмма плотности распределения возраста"
   ]
  },
  {
   "cell_type": "code",
   "execution_count": 6,
   "id": "55593d56-d061-4c5a-840a-515062389279",
   "metadata": {},
   "outputs": [
    {
     "data": {
      "image/png": "[encoded data removed]",
      "text/plain": [
       "<Figure size 640x480 with 1 Axes>"
      ]
     },
     "metadata": {},
     "output_type": "display_data"
    }
   ],
   "source": [
    "plt.hist(x = df['Age'], bins = 100, color = 'brown')\n",
    "plt.title('Распределение возраста клиентов')\n",
    "plt.xlabel('Возраст')\n",
    "plt.ylabel('Кол-во клиентов')\n",
    "plt.show()"
   ]
  },
  {
   "cell_type": "markdown",
   "id": "a239bec3-e7dd-402d-9f0e-8621078ac5ba",
   "metadata": {},
   "source": [
    "## <u><b>Вывод</b>:</u>\n",
    "## Возрасты клиентов банка имеют нормальное распределение. Симметричное, без значительных перекосов. Средний возраст составляет порядка 40 лет. Выбросов не много."
   ]
  }
 ],
 "metadata": {
  "kernelspec": {
   "display_name": "Python 3 (ipykernel)",
   "language": "python",
   "name": "python3"
  },
  "language_info": {
   "codemirror_mode": {
    "name": "ipython",
    "version": 3
   },
   "file_extension": ".py",
   "mimetype": "text/x-python",
   "name": "python",
   "nbconvert_exporter": "python",
   "pygments_lexer": "ipython3",
   "version": "3.11.7"
  }
 },
 "nbformat": 4,
 "nbformat_minor": 5
}
